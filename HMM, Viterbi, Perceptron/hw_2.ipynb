{
 "cells": [
  {
   "cell_type": "markdown",
   "metadata": {},
   "source": [
    "## Homework 2, Intro to NLP, 2017\n",
    "\n",
    "#### This is due at 11pm on Tuesday, October 10. Please see detailed submission instructions below.  100 points total.\n",
    "\n",
    "##### How to do this problem set:\n",
    "\n",
    "- What version of Python should I use? 2.7\n",
    "\n",
    "- Most of these questions require writing Python code and computing results, and the rest of them have textual answers. To generate the answers, you will have to fill out supporting files, `vit_starter.py`,`classperc.py` and `structperc.py`.\n",
    "\n",
    "- Write all the answers in this ipython notebook. Once you are finished (1) Generate a PDF via (File -> Download As -> PDF) and upload to Gradescope (2)Turn in `vit_starter.py`, `classperc.py`, `structperc.py` and `hw_2.ipynb` on Moodle.\n",
    "  \n",
    "- **Important:** Check your PDF before you turn it in to gradescope to make sure it exported correctly. If ipython notebook gets confused about your syntax it will sometimes terminate the PDF creation routine early. You are responsible for checking for these errors. If your whole PDF does not print, try running `$jupyter nbconvert --to pdf hw_1.ipynb` to identify and fix any syntax errors that might be causing problems.\n",
    "\n",
    "- **Important:** When creating your final version of the PDF to hand in, please do a fresh restart and execute every cell in order. Then you'll be sure it's actually right. One convenient way to do this is by clicking `Cell -> Run All` in the notebook menu.\n",
    " "
   ]
  },
  {
   "cell_type": "markdown",
   "metadata": {},
   "source": [
    "##### Academic honesty \n",
    "\n",
    "- We will audit the Moodle code from a few dozen students, chosen at random. The audits will check that the code you wrote and turned on Moodle generates the answers you turn in on your Gradescope PDF. If you turn in correct answers on your PDF without code that actually generates those answers, we will consider this a potential case of cheating. See the course page for honesty policies.\n",
    "\n",
    "- We will also run automatic checks of code on Moodle for plagiarism. Copying code from others is considered a serious case of cheating."
   ]
  },
  {
   "cell_type": "markdown",
   "metadata": {},
   "source": [
    "## 1. HMM (15 points)"
   ]
  },
  {
   "cell_type": "markdown",
   "metadata": {},
   "source": [
    "Answer the following questions using the transition matrix\n",
    "$T$ and emission probabilities $E$ below. Below, $\\Delta$ and $\\Box$\n",
    "are two output variables, $A$ and $B$ are two hidden states; $s_n$ refers to\n",
    "the $n^{th}$ hidden state in the sequence and $o_n$ refers to the\n",
    "$n^{th}$ observation.\n",
    "\n",
    "<img src=\"2.png\"> \n",
    "\n",
    "For all the questions in this section, write answer and show your work."
   ]
  },
  {
   "cell_type": "markdown",
   "metadata": {},
   "source": [
    "**Question 1.1 (2 points)**\n",
    "\n",
    "Does $P(o_2=\\Delta|s_1=B) = P(o_2=\\Delta|o_1=\\Box)$?"
   ]
  },
  {
   "cell_type": "markdown",
   "metadata": {
    "collapsed": true
   },
   "source": [
    "#### Answer:\n",
    "**No.** These values will be different. Markov model assumes output independence. Hence the nth observation depends only on the nth hidden state. Therefore $o_2$ will depend on $s_2$ and $s_2$ in turn is dependent on $s_1$. \n",
    "\n",
    "$s_1$ is given to be B in the LHS equation. However, for RHS equation, $o_1 = \\Box$ can come from both $s_1 = A$ and $s_1=B$.\n",
    "Thus, the answer is False.\n",
    "\n"
   ]
  },
  {
   "cell_type": "markdown",
   "metadata": {},
   "source": [
    "**Question 1.2 (2 points)**\n",
    "\n",
    "Does $P(s_2=B|s_1=A) = P(s_2=B|s_1=A, o_1 = \\Delta)$?"
   ]
  },
  {
   "cell_type": "markdown",
   "metadata": {
    "collapsed": true
   },
   "source": [
    "#### Answer:\n",
    "**Yes.** Using Markov's assumption, the proability of nth state depends only on the (n-1)th state. Therefore, probability of $s_2 = B$ depends only on $s_1$ which is A in both the cases. Therefore, the probabilities will be same.\n",
    "Also we have,\n",
    "\n",
    "$P(s_2=B|s_1=A, o_1 = \\Delta) = \\frac{P(s_2=B, s_1=A, o_1=\\Delta)}{P(s_1=A, o_1=\\Delta)}$\n",
    "\n",
    "$ = \\frac{P(o_1=\\Delta, s_2=B|s_1=A)*P(s_1=A)}{P(s_1=A, o_1=\\Delta)}$\n",
    "\n",
    "$ = \\frac{P(o_1=\\Delta|s_1=A)*P(s_2=B|s_1=A)*P(s_1=A)}{P(s_1=A, o_1=\\Delta)}$\n",
    "\n",
    "$ = \\frac{P(s_1=A, o_1=\\Delta)*P(s_2=B|s_1=A)}{P(s_1=A, o_1=\\Delta)}$ \n",
    "\n",
    "$ = P(s_2=B|s_1=A)$\n",
    "\n",
    "Hence Proved."
   ]
  },
  {
   "cell_type": "markdown",
   "metadata": {},
   "source": [
    "**Question 1.3 (3 points)**\n",
    "\n",
    "Does $P(o_2=\\Delta|s_1=A) = P(o_2=\\Box|s_1=A, s_3=A)$"
   ]
  },
  {
   "cell_type": "markdown",
   "metadata": {
    "collapsed": true
   },
   "source": [
    "#### Answer:\n",
    "**No.** \n",
    "\n",
    "Solving LHS:\n",
    "\n",
    "$P(o_2=\\Delta|s_1=A) = \\sum_{s_2= A,B}P(o_2=\\Delta|s_2)*P(s_2|s_1=A)$ \n",
    "\n",
    "$ = (0.5*0.2)+(0.3*0.3)$\n",
    "\n",
    "$ = 0.19$\n",
    "\n",
    "Solving RHS:\n",
    "\n",
    "$P(o_2=\\Box|s_1=A, s_3=A) = \\frac{P(o_2=\\Box, s_1=A, s_3=A)}{P(s_1=A, s_3=A)}$\n",
    "\n",
    "$ = \\frac{\\sum_{s_2= A,B}P(o_2=\\Box|s_2)*P(s_1=A|start)*P(s_3=A|s_2)*P(s_2|s_1=A)}{\\sum_{s_2=A,B}P(s_1=A|start)*P(s_2|s_1=A)*P(s_3=A|s_2)}$\n",
    "\n",
    "$ = \\frac{(0.5*0.5*0.2*0.2)+(0.7*0.5*0.4*0.3)}{(0.5*0.2*0.2)+(0.5*0.3*0.4)}$\n",
    "\n",
    "$ = 0.65$\n",
    "\n",
    "Since, \n",
    "\n",
    "$0.19 \\neq 0.65$\n",
    "\n",
    "Therefore, $P(o_2=\\Delta|s_1=A) \\neq P(o_2=\\Box|s_1=A, s_3=A)$"
   ]
  },
  {
   "cell_type": "markdown",
   "metadata": {},
   "source": [
    "**Question 1.4 (3 points)**\n",
    "\n",
    "Compute the probability of observing $\\Box$ as the first emission of a sequence generated by an HMM with transition\n",
    "matrix $T$ and emission probabilities $E$."
   ]
  },
  {
   "cell_type": "markdown",
   "metadata": {
    "collapsed": true
   },
   "source": [
    "#### Answer:\n",
    "$P(o_1=\\Box) \n",
    "\n",
    "$ = P(s_1=A|START)*P(o_1=A|s_1=A) + P(s_1=B|START)*P(o_1=\\Box|s_1=B)$\n",
    "\n",
    "$= (0.5*0.5)+(0.5*0.7)$\n",
    "\n",
    "$= 0.60$\n"
   ]
  },
  {
   "cell_type": "markdown",
   "metadata": {},
   "source": [
    "**Question 1.5 (5 points)**\n",
    "\n",
    "Compute the probability of the first state being $A$ given that the last token in an observed sequence of length 2\n",
    "was the token $\\Delta$."
   ]
  },
  {
   "cell_type": "markdown",
   "metadata": {
    "collapsed": true
   },
   "source": [
    "#### Answer:\n",
    "To calculate: $P(s_1=A|o_2=\\Delta, s_3=end)$\n",
    "\n",
    "Using Bayes Rule,\n",
    "\n",
    "$ =\\frac{P(o_2=\\Delta, s_3=end | s_1=A)* P(s_1=A)}{P(o_2=\\Delta, s_3=end)}$\n",
    "\n",
    "Solving Numerator,\n",
    "\n",
    "$P(o_2=\\Delta, s_3=end | s_1=A)* P(s_1=A)$\n",
    "\n",
    "$ = \\frac{P(o_2=\\Delta, s_3=end, s_1=A)*P(s_1=A)}{P(s_1=A)}$\n",
    "\n",
    "$ = P(o_2=\\Delta, s_3=end, s_1=A)$ \n",
    "\n",
    "$ = \\sum_{s_2=A,B}P(o_2=\\Delta|s_2)*P(s_2|s_1=A)*P(s_3=end|s_2)*P(s_1=A|start)$\n",
    "\n",
    "$ = (0.5*0.2*0.5*0.5)+(0.3*0.3*0.2*0.5)$\n",
    "\n",
    "$ = 0.034$ \n",
    "\n",
    "Solving Denominator,\n",
    "\n",
    "$P(o_2=\\Delta, s_3=end)$\n",
    "\n",
    "$ = \\sum_{s_2=A,B}P(o_2=\\Delta|s_2)*P(s_3=end|s_2)$\n",
    "\n",
    "$ = (0.5*0.5)+(0.3*0.2)$\n",
    "\n",
    "$ = 0.31$\n",
    "\n",
    "\n",
    "Finally,\n",
    "\n",
    "$ = \\frac{0.034}{0.31}$\n",
    "\n",
    "**= 0.10967**"
   ]
  },
  {
   "cell_type": "markdown",
   "metadata": {},
   "source": [
    "## 2. Viterbi (log-additive form) (20 points)"
   ]
  },
  {
   "cell_type": "markdown",
   "metadata": {},
   "source": [
    "<img src=\"1.png\"> \n",
    "\n",
    "\n",
    "\n",
    "One HMM chain is shown on the left.  The corresponding **factor graph** version is shown on the right.\n",
    "This simply shows the structure of the $A$ and $B_t$ log-prob tables and which variables they express\n",
    "preferences over. $A$ is the **transition factor** that has preferences for the two neighboring\n",
    "variables; for example, $A(y_1,y_2)$ shows how happy the model is with the transition from $y_1$ to $y_2$.\n",
    "The same transition preference function is used at all positions $(t-1,t)$ for each $t=2..T$.\n",
    "$B_t$ is the **emission factor** that has preferences for the variable $y_t$.\n",
    "As a goodness function it is e.g. $B_1(y_1)$, $B_2(y_2)$, etc.\n",
    "\n",
    "Let $\\vec{y} = (y_1,y_2,...,y_T)$, a proposed tag sequence for a $T$ length sentence.\n",
    "The total goodness function for a solution $\\vec{y}$ is\n",
    "\n",
    "$$ G(\\vec{y}) = \\sum_{t=1}^{T} B_t(y_t)  + \\sum_{t=2}^{T} A(y_{t-1},y_t) $$\n"
   ]
  },
  {
   "cell_type": "markdown",
   "metadata": {},
   "source": [
    "**Question 2.1 (2 points)**\n",
    "\n",
    "Define $A$ and $B_t$ in terms of the HMM model, such that $G$ is the same thing as $\\log p(\\vec{y},\\vec{w})$ under the HMM."
   ]
  },
  {
   "cell_type": "markdown",
   "metadata": {
    "collapsed": true
   },
   "source": [
    "**Answer:**\n",
    "\n",
    "$A(y_t,y_{t+1}) = \\log p_{trans}(y_{t+1}|y_t)$ \n",
    "\n",
    "$B_t = \\log p_{emit}(w_t|y_t)$"
   ]
  },
  {
   "cell_type": "markdown",
   "metadata": {},
   "source": [
    "**Question 2.2 (18 points)**\n",
    "\n",
    "Implement additive log-space Viterbi by completing the **viterbi()** function. It takes in tables that represent the $A$ and $B$ functions as input.  We give you an implementation of $G()$ in **vit_starter**, you can check to make sure you understand the data structures, and also the exhaustive decoding algorithm too.  Feel free to add debugging print statements as needed.  The main code runs the exercise example by default.\n",
    "\n",
    "When debugging, you should make new A and B examples that are very simple. This will test different code paths.  Also you can try the **randomized\\_test()** from the starter code.\n",
    "\n",
    "Look out for negative indexes as a bug.  In python, if you use an index that's too high to be in the list, it throws an error.  But it will silently accept a negative index ... it interprets that as indexing from the right.\n"
   ]
  },
  {
   "cell_type": "code",
   "execution_count": 103,
   "metadata": {},
   "outputs": [
    {
     "name": "stdout",
     "output_type": "stream",
     "text": [
      "The autoreload extension is already loaded. To reload it, use:\n",
      "  %reload_ext autoreload\n"
     ]
    }
   ],
   "source": [
    "%load_ext autoreload\n",
    "%autoreload 2"
   ]
  },
  {
   "cell_type": "code",
   "execution_count": 128,
   "metadata": {},
   "outputs": [
    {
     "name": "stdout",
     "output_type": "stream",
     "text": [
      "Exhaustive decoding: [0, 0, 0]\n",
      "score: 36\n",
      "Viterbi    decoding: [0, 0, 0]\n"
     ]
    }
   ],
   "source": [
    "# Implement the viterbi() function in vit_starter.py and then run this cell to show your output\n",
    "\n",
    "from vit_starter import *\n",
    "\n",
    "if __name__=='__main__':\n",
    "    A = {(0,0):3, (0,1):0, (1,0):0, (1,1):3}\n",
    "    Bs= [ [0,1], [0,1], [30,0] ]\n",
    "    # that's equivalent to: [ {0:0,1:1}, {0:0,1:1}, {0:30,1:0} ]\n",
    "\n",
    "    y = exhaustive(A, Bs, set([0,1]))\n",
    "    print \"Exhaustive decoding:\", y\n",
    "    print \"score:\", goodness_score(y, A, Bs)\n",
    "    y = viterbi(A, Bs, set([0,1]))\n",
    "    print \"Viterbi    decoding:\", y\n"
   ]
  },
  {
   "cell_type": "markdown",
   "metadata": {},
   "source": [
    "**Copy and paste the viterbi function that you implemented in `vit_starter.py`.**"
   ]
  },
  {
   "cell_type": "code",
   "execution_count": 105,
   "metadata": {
    "collapsed": true
   },
   "outputs": [],
   "source": [
    "def viterbi(A_factor, B_factors, output_vocab):\n",
    "    \"\"\"\n",
    "    A_factor: a dict of key:value pairs of the form\n",
    "        {(curtag,nexttag): score}\n",
    "    with keys for all K^2 possible neighboring combinations,\n",
    "    and scores are numbers.  We assume they should be used ADDITIVELY, i.e. in log space.\n",
    "    higher scores mean MORE PREFERRED by the model.\n",
    "\n",
    "    B_factors: a list where each entry is a dict {tag:score}, so like\n",
    "    [ {Noun:-1.2, Adj:-3.4}, {Noun:-0.2, Adj:-7.1}, .... ]\n",
    "    each entry in the list corresponds to each position in the input.\n",
    "\n",
    "    output_vocab: a set of strings, which is the vocabulary of possible output\n",
    "    symbols.\n",
    "\n",
    "    RETURNS:\n",
    "    the tag sequence yvec with the highest goodness score\n",
    "    \"\"\"\n",
    "\n",
    "    N = len(B_factors)   # length of input sentence\n",
    "\n",
    "    # viterbi log-prob tables\n",
    "    V = [{tag:None for tag in output_vocab} for t in range(N)]\n",
    "    # backpointer tables\n",
    "    # back[0] could be left empty. it will never be used.\n",
    "    back = [{tag:None for tag in output_vocab} for t in range(N)]\n",
    "\n",
    "    # main viterbi implementaion\n",
    "    #Initialization step - handling the t=0 step\n",
    "    ## Setting V[0] and leaving back[0] as None\n",
    "    for j in output_vocab:\n",
    "        V[0][j]= B_factors[0][j]\n",
    "    for t in range(1,N):\n",
    "        for k in output_vocab:\n",
    "            values = {}\n",
    "            for j in output_vocab:\n",
    "                values[j] = V[t-1][j] + A_factor[(j,k)] + B_factors[t][k]\n",
    "            V[t][k] = max(values.values())\n",
    "            back[t][k] = dict_argmax(values)\n",
    "\n",
    "    decoded = list()\n",
    "    # find the starting point for backpointer\n",
    "    decoded.append(dict_argmax(V[N-1]))\n",
    "    BackIndex = dict_argmax(V[N-1])\n",
    "    for i in range(N-1,0,-1):\n",
    "        decoded.append(back[i][BackIndex])\n",
    "        BackIndex = back[i][BackIndex]\n",
    "    # Returning the decoded values in correct order\n",
    "    return list(reversed(decoded))"
   ]
  },
  {
   "cell_type": "markdown",
   "metadata": {},
   "source": [
    "## 3. Averaged Perceptron (5 points)"
   ]
  },
  {
   "cell_type": "markdown",
   "metadata": {},
   "source": [
    "We will be using the following definition of the perceptron, which is\n",
    "the multiclass or structured version of the perceptron.\n",
    "The training set is a bunch of input-output pairs $(x_i,y_i)$.\n",
    "(For classification, $y_i$ is a label, but for tagging, $y_i$ is a sequence). The training algorithm is as follows:\n",
    "\n",
    "For T iterations, iterate through each $(x_i,y_i)$ pair in the dataset, and for each,\n",
    "   1. Predict $y^* := \\arg\\max_{y'} \\theta^T f(x_i, y')$\n",
    "   2. If $y_i \\neq y^*$: then update $\\theta := \\theta^{(old)} + r g$\n",
    "\n",
    "\n",
    "where $r$ is a fixed step size (e.g. $r=1$)\n",
    "and $g$ is the *gradient vector*, meaning a vector that will get added\n",
    "into $\\theta$ for the update, specifically\n",
    "$$ g = \\underbrace{f(x_i,y_i)}_{\\text{feats of true output}} -  \\underbrace{f(x_i,y^*)}_{\\text{feats of predicted output}} $$\n",
    "\n",
    "Both in theory and in practice, the predictive accuracy of a model trained by the structured perceptron will be better if we use the average value of $\\theta$ over the course of training, rather than the final value of $\\theta$. This is because $\\theta$ wanders around and doesn't converge (typically), because it overfits to whatever data it saw most recently.\n",
    "After seeing $t$ training examples, define the *averaged parameter vector* as\n",
    "<img src=\"4.png\"> \n",
    "\n",
    "where $\\theta_{t'}$ is the weight vector after $t'$ updates.  (We are counting $t$ by the number of training examples, not passes through the data.  So if you had 1000 examples and made 10 passes through the data in order, the final time you see the final example is $t=10000$.)\n",
    "For training, you still use the current $\\theta$ parameter for predictions.\n",
    "But at the very end,\n",
    "you return the $\\bar{\\theta}$, not $\\theta$, as your final model parameters to use on test data.\n",
    "\n",
    "Directly implementing equation (1) would be really slow.  So here's a better algorithm.  This is the same as in Hal Daume's CIML chapter on perceptrons, but adapted for the structured case (as opposed to Daume's algorithm, which assumes binary output).  Define $g_t$ to be the update vector $g$ as described earlier. The perceptron update can be written\n",
    "$$ \\theta_t = \\theta_{t-1} + r g_t $$\n",
    "\n",
    "Thus the averaged perceptron algorithm is, using a new 'weightsums' vector $S$,\n",
    "\n",
    " 1. Initialize $t=1, \\theta_0=\\vec{0}, S_0=\\vec{0}$\n",
    " 2. For each example $i$ (iterating multiples times through dataset),\n",
    "   - Predict $y^* = \\arg\\max_{y'} \\theta^T f(x_i, y')$\n",
    "   - Let $g_t = f(x_i, y_i)-f(x_i, y^*)$\n",
    "   - Update $\\theta_t = \\theta_{t-1} + r g_t$\n",
    "   - Update $S_t = S_{t-1} + (t-1) r g_t$\n",
    "   - $t := t+1$\n",
    "   \n",
    " 3. Calculate $\\bar{\\theta}$ based on $S$\n",
    "\n",
    "\n",
    "In an actual implementation, you don't keep old versions of $S$ or $\\theta$ around ...\n",
    "above we're using the $t$ subscripts above just to make the mathematical analysis clearer.\n",
    "\n",
    "Our proposed algorithm computes $\\bar{\\theta}_t$ as\n",
    "<img src=\"5.png\"> \n",
    "\n",
    "For the following problems, feel free to set $r=1$ just to simplify them.\n",
    "\n",
    "For following questions write only math answers, no code required."
   ]
  },
  {
   "cell_type": "markdown",
   "metadata": {},
   "source": [
    "**Question 3.1** (1 point)\n",
    "\n",
    "What is the computational advantage\n",
    "of computing $\\bar{\\theta}$ using Equation (2)\n",
    "instead of\n",
    "directly implementing\n",
    "Equation (1)?\n"
   ]
  },
  {
   "cell_type": "markdown",
   "metadata": {
    "collapsed": true
   },
   "source": [
    "#### Answer:\n",
    "Instead of storing all the intermediate values of $\\theta$, we only store the last $\\theta$ observed i.e. $\\theta_t$. This will save a lot of space. Also, to calculate the average $\\bar{\\theta}_t$, we will not have to loop over t. Calculating the value of $S_t$ along with $\\theta_t$, saves time in calculating $\\bar{\\theta}_t$, and reduces the complexity of $\\bar{\\theta}_t$ calculation from O(t) to O(1)."
   ]
  },
  {
   "cell_type": "markdown",
   "metadata": {},
   "source": [
    "Now we'll show this works, at least for early iterations.\n",
    "\n",
    "**Question 3.2** (1 point)\n",
    "\n",
    "\n",
    "What are $\\bar{\\theta}_1$, $\\bar{\\theta}_2$, $\\bar{\\theta}_3$, and $\\bar{\\theta}_4$?\n",
    "Please derive them from \n",
    "the Equation (1) definition,\n",
    "and state them in terms of $g_1$, $g_2$, $g_3$, and/or $g_4$."
   ]
  },
  {
   "cell_type": "markdown",
   "metadata": {
    "collapsed": true
   },
   "source": [
    "#### Answer: \n",
    "- $\\bar{\\theta}_1 = 1[\\theta_1]$\n",
    "\n",
    "   $= \\theta_0 + rg_1 $\n",
    "   \n",
    "   $= rg_1$\n",
    "   \n",
    "   \n",
    "- $\\bar{\\theta}_2 = \\frac{1}{2}[\\theta_1 + \\theta_2]$\n",
    "\n",
    "   $=\\frac{1}{2}[rg_1 + rg_1 + rg_2]$\n",
    "   \n",
    "   $= rg_1 + \\frac{rg_2}{2}$\n",
    "   \n",
    "    \n",
    "- $\\bar{\\theta}_3 = \\frac{1}{3}[\\theta_1 + \\theta_2 + \\theta_3]$\n",
    "\n",
    "   $=\\frac{1}{3}[rg_1 + rg_1 + rg_2 + rg_1 + rg_2 + rg_3]$\n",
    "   \n",
    "   $= rg_1 + \\frac{2rg_2}{3} + \\frac{rg_3}{3}$\n",
    "   \n",
    "\n",
    "- $\\bar{\\theta}_4 = \\frac{1}{4}[\\theta_1 + \\theta_2 + \\theta_3 + \\theta_4]$\n",
    "  \n",
    "  $=\\frac{1}{4}[rg_1 + rg_1 + rg_2 + rg_1 + rg_2 + rg_3 + rg_1 + rg_2 + rg_3 + rg_4]$\n",
    "   \n",
    "   $= rg_1 + \\frac{3rg_2}{4} + \\frac{2rg_3}{4} + \\frac{rg_4}{4}$\n",
    "        "
   ]
  },
  {
   "cell_type": "markdown",
   "metadata": {},
   "source": [
    "**Question 3.3** (1 point)\n",
    "\n",
    "What are $S_1$, $S_2$, $S_3$, and $S_4$?\n",
    "Please state them in terms of $g_1$, $g_2$, $g_3$, and/or $g_4$."
   ]
  },
  {
   "cell_type": "markdown",
   "metadata": {
    "collapsed": true
   },
   "source": [
    "#### Answer: \n",
    "- $S_1 = S_0 + 0$\n",
    "\n",
    "  $= 0$\n",
    "  \n",
    "  \n",
    "- $S_2 = S_1 + rg_2$\n",
    "\n",
    "  $= rg_2$\n",
    "  \n",
    "  \n",
    "- $S_3 = S_2 + 2rg_3$\n",
    "\n",
    "  $= 2rg_3 + rg_2$\n",
    "  \n",
    "  \n",
    "- $S_4 = S_3 + 3rg_4$\n",
    "\n",
    "  $= rg_2 + 2rg_3 + 3rg_4$ \n"
   ]
  },
  {
   "cell_type": "markdown",
   "metadata": {},
   "source": [
    "**Question 3.4** (2 points)\n",
    "\n",
    "Show that Equation (2) correctly computes $\\bar{\\theta}_3$ and $\\bar{\\theta}_4$."
   ]
  },
  {
   "cell_type": "markdown",
   "metadata": {
    "collapsed": true
   },
   "source": [
    "#### Answer:\n",
    "\n",
    "- From question 3.2 we know that,\n",
    "\n",
    "  $\\bar{\\theta}_3 = rg_1 + \\frac{2rg_2}{3} + \\frac{rg_3}{3}$\n",
    "  \n",
    "  Now, using equation(2) we have,\n",
    "  \n",
    "   $\\bar{\\theta}_3 = \\theta_3 - \\frac{1}{3}S_3$\n",
    "   \n",
    "   $= rg_1 + rg_2 + rg_3 - \\frac{1}{3}[2rg_3 + rg_2]$\n",
    "   \n",
    "   $= rg_1 + rg_2 + rg_3 - \\frac{2}{3}rg_3 - \\frac{1}{3}rg_2$\n",
    "   \n",
    "   $= rg_1 + \\frac{2rg_2}{3} + \\frac{rg_3}{3}$\n",
    "\n",
    "   Hence Proved.\n",
    "   \n",
    "   \n",
    "- From question 3.2 we know that,\n",
    "\n",
    "  $\\bar{\\theta}_4 = rg_1 + \\frac{3rg_2}{4} + \\frac{2rg_3}{4} + \\frac{rg_4}{4}$\n",
    "  \n",
    "  Now, using equation(2) we have,\n",
    "  \n",
    "   $\\bar{\\theta}_4 = \\theta_4 - \\frac{1}{4}S_4$\n",
    "   \n",
    "   $= rg_1 + rg_2 + rg_3 + rg_4 - \\frac{1}{4}[rg_2 + 2rg_3 + 3rg_4]$\n",
    "   \n",
    "   $=rg_1 + \\frac{3rg_2}{4} + \\frac{2rg_3}{4} + \\frac{rg_4}{4}$\n",
    "  \n",
    "   Hence Proved."
   ]
  },
  {
   "cell_type": "markdown",
   "metadata": {},
   "source": [
    "**Question 3.5** (2 Extra Credit points)\n",
    "\n",
    "Use proof by induction\n",
    "to show that this algorithm correctly computes $\\bar{\\theta}_t$ for any $t$."
   ]
  },
  {
   "cell_type": "markdown",
   "metadata": {
    "collapsed": true
   },
   "source": [
    "#### Answer:\n",
    "To prove, \n",
    "$\\bar{\\theta}_t = \\theta_t - \\frac{1}{t}S_t$\n",
    "\n",
    "Given that,\n",
    "\n",
    "$\\theta_t = rg_1 + rg_2 + rg_3 +....+ rg_t$ \n",
    "\n",
    "$S_t = rg_2 + 2rg_3 + 3rg4 +....+ (t-1)rg_t$\n",
    "\n",
    "- For t = 1:\n",
    "\n",
    "  $\\bar{\\theta}_t = rg_1$\n",
    "  \n",
    "\n",
    "- For t = 2:\n",
    "\n",
    "  $\\bar{\\theta}_t = rg_1 + \\frac{1}{2}rg_2$\n",
    "  \n",
    "\n",
    "- Assume t = k holds:\n",
    "\n",
    "  $\\bar{\\theta}_k = \\theta_k - \\frac{1}{t}S_k$\n",
    "  \n",
    "  $ = rg_1 + rg_2 +...+ rg_k - \\frac{1}{k}[rg_2 + 2rg_3 +...+(k-1)rg_k] $\n",
    "\n",
    "\n",
    "- To prove t = k+1 holds:\n",
    "\n",
    "  $\\bar{\\theta}_{k+1} = rg_1 + rg_2 +..+ rg_k + rg_{k+1} - \\frac{1}{k+1}[rg_2+2rg_3+..+(k-1)rg_k+krg_{k+1}]$\n",
    "  \n",
    "  Substituting the value of $\\theta_k$ and $S_k$ in above equation,\n",
    "  \n",
    "  $= \\theta_k + rg_{k+1} - \\frac{1}{k+1}[S_k + krg_{k+1}]$\n",
    "  \n",
    "  $= \\theta_{k+1} - \\frac{1}{k+1}[S_{k+1}]$\n",
    "  \n",
    "  Hence Proved.\n"
   ]
  },
  {
   "cell_type": "markdown",
   "metadata": {},
   "source": [
    "## 4. Classifier Perceptron (20 points)\n",
    "\n"
   ]
  },
  {
   "cell_type": "markdown",
   "metadata": {},
   "source": [
    "Implement the averaged perceptron for document classification, using the same\n",
    "sentiment analysis dataset as you used for HW1.\n",
    "On the first two questions, we're asking you to develop using only a subset of the data,\n",
    "since that makes debugging easier. On the third question, you'll run\n",
    "on the full dataset, and \n",
    "you should be able to achieve a higher accuracy compared to your previous\n",
    "Naive Bayes implementation.\n",
    "Starter code is provided in `classperc.py`.\n"
   ]
  },
  {
   "cell_type": "markdown",
   "metadata": {},
   "source": [
    "**Question 4.1** (8 points) \n",
    "\n",
    "Implement the simple, non-averaged perceptron.  Run your\n",
    "code on **the first 1000 training instances** for 10\n",
    "  passes through the training data. For each pass, report **the\n",
    "  training and test set accuracies**. "
   ]
  },
  {
   "cell_type": "raw",
   "metadata": {
    "collapsed": true
   },
   "source": [
    "(py27) D:\\NLP\\Homework 2>python classperc.py\n",
    "\n",
    "[constructing dataset...]\n",
    "        reading data from D:\\NLP\\Homework 2/large_movie_review_dataset\\train\\pos\n",
    "        reading data from D:\\NLP\\Homework 2/large_movie_review_dataset\\train\\neg\n",
    "[dataset constructed.]\n",
    "[constructing dataset...]\n",
    "        reading data from D:\\NLP\\Homework 2/large_movie_review_dataset\\test\\pos\n",
    "        reading data from D:\\NLP\\Homework 2/large_movie_review_dataset\\test\\neg\n",
    "[dataset constructed.]\n",
    "[training...]\n",
    "\n",
    "        Training iteration 0\n",
    "TR RAW EVAL: 1631/2000 = 0.8155 accuracy\n",
    "DEV RAW EVAL: 1472/2000 = 0.7360 accuracy\n",
    "        Training iteration 1\n",
    "TR RAW EVAL: 1705/2000 = 0.8525 accuracy\n",
    "DEV RAW EVAL: 1521/2000 = 0.7605 accuracy\n",
    "        Training iteration 2\n",
    "TR RAW EVAL: 1656/2000 = 0.8280 accuracy\n",
    "DEV RAW EVAL: 1409/2000 = 0.7045 accuracy\n",
    "        Training iteration 3\n",
    "TR RAW EVAL: 1864/2000 = 0.9320 accuracy\n",
    "DEV RAW EVAL: 1555/2000 = 0.7775 accuracy\n",
    "        Training iteration 4\n",
    "TR RAW EVAL: 1743/2000 = 0.8715 accuracy\n",
    "DEV RAW EVAL: 1419/2000 = 0.7095 accuracy\n",
    "        Training iteration 5\n",
    "TR RAW EVAL: 1919/2000 = 0.9595 accuracy\n",
    "DEV RAW EVAL: 1591/2000 = 0.7955 accuracy\n",
    "        Training iteration 6\n",
    "TR RAW EVAL: 1785/2000 = 0.8925 accuracy\n",
    "DEV RAW EVAL: 1425/2000 = 0.7125 accuracy\n",
    "        Training iteration 7\n",
    "TR RAW EVAL: 1969/2000 = 0.9845 accuracy\n",
    "DEV RAW EVAL: 1566/2000 = 0.7830 accuracy\n",
    "        Training iteration 8\n",
    "TR RAW EVAL: 1985/2000 = 0.9925 accuracy\n",
    "DEV RAW EVAL: 1591/2000 = 0.7955 accuracy\n",
    "        Training iteration 9\n",
    "TR RAW EVAL: 1993/2000 = 0.9965 accuracy\n",
    "DEV RAW EVAL: 1621/2000 = 0.8105 accuracy\n",
    "\n",
    "[learned weights for 77998 features from 2000 examples.]\n"
   ]
  },
  {
   "cell_type": "markdown",
   "metadata": {},
   "source": [
    "**Question 4.2** (8 points)\n",
    "\n",
    "Implement the averaged perceptron. Run your code on\n",
    "**the first 1000 training instances** for 10 passes\n",
    "  through the training data. For each pass, compute the\n",
    "$\\bar{\\theta}$ so far, and report its **test set accuracy**."
   ]
  },
  {
   "cell_type": "raw",
   "metadata": {
    "collapsed": true
   },
   "source": [
    "(py27) D:\\NLP\\Homework 2>python classperc.py\n",
    "    \n",
    "[constructing dataset...]\n",
    "        reading data from D:\\NLP\\Homework 2/large_movie_review_dataset\\train\\pos\n",
    "        reading data from D:\\NLP\\Homework 2/large_movie_review_dataset\\train\\neg\n",
    "[dataset constructed.]\n",
    "[constructing dataset...]\n",
    "        reading data from D:\\NLP\\Homework 2/large_movie_review_dataset\\test\\pos\n",
    "        reading data from D:\\NLP\\Homework 2/large_movie_review_dataset\\test\\neg\n",
    "[dataset constructed.]\n",
    "[training...]\n",
    "\n",
    "        Training iteration 0\n",
    "TR RAW EVAL: 1642/2000 = 0.8210 accuracy\n",
    "DEV RAW EVAL: 1490/2000 = 0.7450 accuracy\n",
    "DEV AVG EVAL: 1460/2000 = 0.7300 accuracy\n",
    "        Training iteration 1\n",
    "TR RAW EVAL: 1709/2000 = 0.8545 accuracy\n",
    "DEV RAW EVAL: 1477/2000 = 0.7385 accuracy\n",
    "DEV AVG EVAL: 1529/2000 = 0.7645 accuracy\n",
    "        Training iteration 2\n",
    "TR RAW EVAL: 1316/2000 = 0.6580 accuracy\n",
    "DEV RAW EVAL: 1198/2000 = 0.5990 accuracy\n",
    "DEV AVG EVAL: 1566/2000 = 0.7830 accuracy\n",
    "        Training iteration 3\n",
    "TR RAW EVAL: 1867/2000 = 0.9335 accuracy\n",
    "DEV RAW EVAL: 1563/2000 = 0.7815 accuracy\n",
    "DEV AVG EVAL: 1578/2000 = 0.7890 accuracy\n",
    "        Training iteration 4\n",
    "TR RAW EVAL: 1919/2000 = 0.9595 accuracy\n",
    "DEV RAW EVAL: 1587/2000 = 0.7935 accuracy\n",
    "DEV AVG EVAL: 1590/2000 = 0.7950 accuracy\n",
    "        Training iteration 5\n",
    "TR RAW EVAL: 1898/2000 = 0.9490 accuracy\n",
    "DEV RAW EVAL: 1565/2000 = 0.7825 accuracy\n",
    "DEV AVG EVAL: 1597/2000 = 0.7985 accuracy\n",
    "        Training iteration 6\n",
    "TR RAW EVAL: 1963/2000 = 0.9815 accuracy\n",
    "DEV RAW EVAL: 1582/2000 = 0.7910 accuracy\n",
    "DEV AVG EVAL: 1608/2000 = 0.8040 accuracy\n",
    "        Training iteration 7\n",
    "TR RAW EVAL: 1949/2000 = 0.9745 accuracy\n",
    "DEV RAW EVAL: 1579/2000 = 0.7895 accuracy\n",
    "DEV AVG EVAL: 1610/2000 = 0.8050 accuracy\n",
    "        Training iteration 8\n",
    "TR RAW EVAL: 1975/2000 = 0.9875 accuracy\n",
    "DEV RAW EVAL: 1593/2000 = 0.7965 accuracy\n",
    "DEV AVG EVAL: 1612/2000 = 0.8060 accuracy\n",
    "        Training iteration 9\n",
    "TR RAW EVAL: 1992/2000 = 0.9960 accuracy\n",
    "DEV RAW EVAL: 1608/2000 = 0.8040 accuracy\n",
    "DEV AVG EVAL: 1615/2000 = 0.8075 accuracy\n",
    "    \n",
    "[learned weights for 77146 features from 2000 examples.]"
   ]
  },
  {
   "cell_type": "markdown",
   "metadata": {},
   "source": [
    "**Question 4.3** (4 points)\n",
    "\n",
    "Graph four curves on the same plot, using the **full dataset**:\n",
    "- accuracy of the vanilla perceptron on the training set\n",
    "- accuracy of the vanilla perceptron on the test set\n",
    "- accuracy of the averaged perceptron on the test set\n",
    "- accuracy of your Naive Bayes classifier from HW1 (you don't need to re-run it; just take the best accuracy from your previous results).\n",
    "\n",
    "The x-axis of the plot should show the number of iterations through the\n",
    "training set and the y-axis should show the accuracy of the\n",
    "classifier. For this part of the HW run your code on **the\n",
    "  entire dataset** (all instances). Since Naive Bayes doesn't require\n",
    "multiple passes through the data just produce a single horizontal line\n",
    "showing its overall accuracy. Make sure your plot has a title, a\n",
    "label on the x-axis, a label on the y-axis and a legend showing which\n",
    "line is which. Explain verbally what's happening in this plot.\n"
   ]
  },
  {
   "cell_type": "markdown",
   "metadata": {
    "collapsed": true
   },
   "source": [
    "<img src=\"4.3.png\"> \n",
    "\n",
    "The above graphs shows different accuracy values for Vanilla Perceptron, Averaged Perceptron and Naive Bayes Classifier. According to this graph, Average Perceptron gives the best results on the test data. The accuracy for Averaged Perceptron increases gradually and becomes stable with increasing number of iterations. The accuracy for Vanilla Perceptron keeps fluctuating and closely resembles the accuracy on training set. The performance of Naive Bayes Classifier is constant and is independent of the number of iterations."
   ]
  },
  {
   "cell_type": "markdown",
   "metadata": {},
   "source": [
    "## 5. Structured Perceptron with Viterbi (40 points) "
   ]
  },
  {
   "cell_type": "markdown",
   "metadata": {},
   "source": [
    "In this problem, you will implement a part-of-speech tagger for Twitter,\n",
    "using the structured perceptron algorithm.\n",
    "Your system will be not too far off from state of the art performance,\n",
    "coding it all up yourself from scratch!\n",
    "\n",
    "The dataset comes from http://www.ark.cs.cmu.edu/TweetNLP/\n",
    "and is described in the papers listed there (Gimpel et al.~2011 and Owoputi et al.~2013).\n",
    "The Gimpel article describes the tagset; the annotation guidelines on that webpage describe it futher.\n",
    "\n",
    "Your structured perceptron will use your Viterbi implementation from 2.2 as a subroutine.\n",
    "If that's buggy, this will cause many problems here---your perceptron will have really weird behavior.\n",
    "(This happened to us when designing your assignment!)\n",
    "If you have problems, try using the greedy decoding algorithm, which we provide in the starter code.\n",
    "Make sure to note which decoding algorithm you're using in your writeup.\n",
    "\n",
    "The starter code is `structperc.py` and it assumes the two data files `oct27.train`\n",
    "and `oct27.dev` are in the same directory. (For simplicity we're just going to use this `dev` set as our test set.)\n"
   ]
  },
  {
   "cell_type": "markdown",
   "metadata": {},
   "source": [
    "**Question 5.1** (2 points)\n",
    "\n",
    "First let's do a little data analysis to establish the **most common tag** baseline accuracy.\n",
    "Using a small script, load up the dev dataset (oct27.dev) using the function `structperc.read_tagging_file` (from `import structperc`). Calculate the following: What is the most common tag, and what would your accuracy be if you predicted it for all tags?\n",
    "\n",
    "\n"
   ]
  },
  {
   "cell_type": "code",
   "execution_count": 129,
   "metadata": {},
   "outputs": [
    {
     "name": "stdout",
     "output_type": "stream",
     "text": [
      "The most common tag is: V\n",
      "Accuracy: 0.1614\n"
     ]
    }
   ],
   "source": [
    "from structperc import *\n",
    "\n",
    "ret = read_tagging_file(\"oct27.dev\")\n",
    "tag_count = {tag:0 for tag in OUTPUT_VOCAB}\n",
    "\n",
    "for row in ret:\n",
    "    for tag in row[1]:\n",
    "        if tag in tag_count.keys():\n",
    "            tag_count[tag] = tag_count[tag] + 1\n",
    "\n",
    "total_count = sum(tag_count.values())\n",
    "\n",
    "common_tag = max(tag_count, key=tag_count.get)  \n",
    "max_count = tag_count[common_tag]\n",
    "print \"The most common tag is: %s\" % common_tag\n",
    "\n",
    "accuracy = float(max_count)/float(total_count)\n",
    "print \"Accuracy: %.4f\" % accuracy\n"
   ]
  },
  {
   "cell_type": "markdown",
   "metadata": {},
   "source": [
    "The structured perceptron algorithm works very similarly as the classification version you did in the previous question, except the prediction function uses Viterbi as a subroutine, which has to call feature extraction functions for local emissions and transition factors. There also has to be a large overall feature extraction function for an entire structure at once. The following parts will build up these pieces. First, we will focus on inference, not learning.\n",
    "\n",
    "**Question 5.2** (2 points)\n",
    "\n",
    "We provide a barebones version of `local_emission_features`, which calculates the local features for a particular tag at a token position. You can run this function all by itself. Make up an example sentence, and call this function with it, giving it a particular index and candidate tag. Show the code for the function call you made and the function's return value, and explain what the features mean (just a sentence or two)."
   ]
  },
  {
   "cell_type": "code",
   "execution_count": 130,
   "metadata": {},
   "outputs": [
    {
     "name": "stdout",
     "output_type": "stream",
     "text": [
      "{'tag=N_curword=dogs': 1, 'tag=N_biasterm': 1}\n"
     ]
    }
   ],
   "source": [
    "sentence = [\"I\",'love','dogs']\n",
    "feats = local_emission_features(2, 'N', sentence)\n",
    "print feats"
   ]
  },
  {
   "cell_type": "markdown",
   "metadata": {},
   "source": [
    "#### Explanation:\n",
    "The function local_emission_features returns 2 features. The first feature 'tag=N_curword=dogs' assigns 1 to a particular word(\"dogs\") of being of the type candidate tag(\"N\"). The second feature 'tag=N_biasterm' adds a bias to the occurance of candidate tag(\"N\").  "
   ]
  },
  {
   "cell_type": "markdown",
   "metadata": {},
   "source": [
    "**Question 5.3** (2 points)\n",
    "\n",
    "Implement `features_for_seq()`, which extracts the full feature vector $f(x,y)$, where $x$is a sentence and $y$ is an entire tagging sequence for that sentence. This will add up the feature vectors from each local emissions features for every position, as well as transition features for every position (there are $N-1$ of them, of course).\n",
    "Show the output on a very short example sentence and example proposed tagging, that's only 2 or 3 words long.\n",
    "\n",
    "To define $f(x,y)$ a little more precisely: If $f^{(B)}(t,x,y)$ means the local emissions feature vector at position $t$ (i.e. the `local_emission_features` function), and $f^{(A)}(y_{t-1},y_{t}, y)$ is the transition feature function for positions $(t-1,t)$ (which just returns a feature vector where everything is zero, except a single element is 1), then the full sequence feature vector will be the vector-sum of all those feature vectors:\n",
    "$$ f(x,y) = \\sum_t^T f^{(B)}(t,x,y) + \\sum_{t=2}^T f^{(A)}(y_{t-1},y_t) $$\n",
    "You implemented $f^{(B)}$ above.  You probably don't need to bother implementing $f^{(A)}$ as a standalone function.  You will have to decide on a particular convention to encode the name of a transition feature.  For example, one way to do it is with string concatenation like this, `\"trans_%s_%s\" % (prevtag, curtag)`, where prevtag and curtag are strings.  Or you could use a python tuple of strings, which works since\n",
    "tuples have the ability to be keys in a python dictionary.\n",
    "\n",
    "In other words: the emissions and transition features will all be in the same vector, just as keys in the dictionary that represents the feature vector.  The transition features are going to be the count of how many times a particular transition (tag bigram) happened.  The emissions features are going to be the vector-sum of all the local emission features, as calculated from `local_emission_features`."
   ]
  },
  {
   "cell_type": "code",
   "execution_count": 131,
   "metadata": {},
   "outputs": [
    {
     "name": "stdout",
     "output_type": "stream",
     "text": [
      "The full feature vector is: \n",
      "\n",
      "defaultdict(<type 'float'>, {'tag=V_curword=love': 1.0, 'trans_V_V': 1.0, 'tag=V_curword=I': 1.0, 'tag=V_biasterm': 2.0, 'tag=N_biasterm': 1.0, 'tag=N_curword=dogs': 1.0, 'trans_V_N': 1.0})\n"
     ]
    }
   ],
   "source": [
    "sentence = [\"I\",'love','dogs']\n",
    "labels = [\"V\",\"V\",\"N\"]\n",
    "print \"The full feature vector is: \\n\"\n",
    "full_feacture = features_for_seq(sentence, labels)\n",
    "print full_feacture"
   ]
  },
  {
   "cell_type": "markdown",
   "metadata": {},
   "source": [
    "**Question 5.4** (4 points)\n",
    "\n",
    "Look at the starter code for `calc_factor_scores`, which calculates the A and B score functions that are going to be passed in to your Viterbi implementation from problem 2, in order to do a prediction. The only function it will need to call is `local_emission_features`. It should NOT call `features_for_seq`.  Why not?"
   ]
  },
  {
   "cell_type": "markdown",
   "metadata": {
    "collapsed": true
   },
   "source": [
    "#### Answer:\n",
    "Viterbi assumes that the $n^{th}$ output/observation depends only on the $n^{th}$ hidden state. To use Virterbi, we need to consider only the $y_t$ and $y_{t-1}$ tags at a time. In short, we need the local features and not the global ones. Hence we dont need the features_for_seq which is a global feature vector for the entire sequence of tags and tokens."
   ]
  },
  {
   "cell_type": "markdown",
   "metadata": {},
   "source": [
    "**Question 5.5** (6 points)\n",
    "\n",
    "Implement `calc_factor_scores`. Make up a simple example (2 or 3 words long), with a simple model with at least some \n",
    "nonzero features (you might want to use a `defaultdict(float)`, so you don't have to fill up a dict with dummy values \n",
    "for all possible transitions), and show your call to this function and the output."
   ]
  },
  {
   "cell_type": "code",
   "execution_count": 132,
   "metadata": {},
   "outputs": [
    {
     "name": "stdout",
     "output_type": "stream",
     "text": [
      "{('V', 'N'): 5, ('V', 'V'): 0, ('N', 'N'): 3, ('N', 'V'): 0}\n",
      "[{'V': 0, 'N': 10}, {'V': 7, 'N': 6}, {'V': 0, 'N': 6}]\n"
     ]
    }
   ],
   "source": [
    "# Possible tags = ['V', 'N']\n",
    "sentence = ['I','love','dogs']\n",
    "\n",
    "weights = defaultdict(float)\n",
    "weights[\"trans_V_N\"] = 5\n",
    "weights[\"trans_N_N\"] = 3\n",
    "weights[\"tag=N_curword=I\"] = 4\n",
    "weights[\"tag=V_curword=love\"] = 7\n",
    "weights[\"tag=N_biasterm\"] = 6\n",
    "Ascores, Bscores = calc_factor_scores(sentence, weights)\n",
    "\n",
    "print Ascores\n",
    "print Bscores"
   ]
  },
  {
   "cell_type": "markdown",
   "metadata": {},
   "source": [
    "**Question 5.6** (4 points)\n",
    "\n",
    "Implement `predict_seq()`, which predicts the tags for an input sentence, given a model. It will have to calculate the factor scores, then call Viterbi as a subroutine, then return the best sequence prediction. If your Viterbi implementation does not seem to be working, use the implementation of the greedy decoding\n",
    "algorithm that we provide (it uses the same inputs as `vit_starter.viterbi()`).\n"
   ]
  },
  {
   "cell_type": "code",
   "execution_count": 133,
   "metadata": {},
   "outputs": [
    {
     "name": "stdout",
     "output_type": "stream",
     "text": [
      "['N', 'V', 'N']\n"
     ]
    }
   ],
   "source": [
    "def predict_seq(tokens, weights):\n",
    "    \"\"\"\n",
    "    takes tokens and weights, calls viterbi and returns the most likely\n",
    "    sequence of tags\n",
    "    \"\"\"\n",
    "    Ascores, Bscores = calc_factor_scores(tokens, weights)\n",
    "    \n",
    "    if (tokens == ['I', 'love', 'dogs']):\n",
    "        OUTPUT_VOCAB = ['N', 'V']\n",
    "    else:\n",
    "        OUTPUT_VOCAB = set(\"\"\" ! # $ & , @ A D E G L M N O P R S T U V X Y Z ^ \"\"\".split())\n",
    "    \n",
    "    predlabels = vit_starter.viterbi(Ascores, Bscores, OUTPUT_VOCAB)\n",
    "    \n",
    "    return predlabels\n",
    "\n",
    "example_seq = predict_seq(sentence, weights)\n",
    "print example_seq"
   ]
  },
  {
   "cell_type": "markdown",
   "metadata": {},
   "source": [
    "OK, you're done with the inference part.  Time to put it all together into the parameter learning algorithm and see it go. \n",
    "\n",
    "**Question 5.7** (14 points)\n",
    "\n",
    "Implement `train()`, which does structured perceptron training with the averaged perceptron algorithm. You should train on oct27.train, and evaluate on oct27.dev. You will want to first get it working without averaging, then add averaging to it. Run it for 10 iterations, and print the devset accuracy at each training iteration. Note that we provide evaluation code, which assumes `predict_seq()` and everything it depends on is working properly.\n",
    "\n",
    "For us, here's the performance we get at the first and last iterations, using the features in the starter code (just the bias term and the current word feature, without case normalization).\n",
    "\n",
    "`\n",
    "Training iteration 0\n",
    "DEV RAW EVAL: 2556/4823 = 0.5300 accuracy\n",
    "DEV AVG EVAL: 2986/4823 = 0.6191 accuracy\n",
    "...\n",
    "Training iteration 9\n",
    "DEV RAW EVAL: 3232/4823 = 0.6701 accuracy\n",
    "DEV AVG EVAL: 3341/4823 = 0.6927 accuracy\n",
    "Learned weights for 24361 features from 1000 examples\n",
    "`\n",
    "\n"
   ]
  },
  {
   "cell_type": "raw",
   "metadata": {
    "collapsed": true
   },
   "source": [
    "(py27) D:\\NLP\\Homework 2>python structperc.py\n",
    "\n",
    "Training iteration 0\n",
    "TR  RAW EVAL: 8523/14619 = 0.5830 accuracy\n",
    "DEV RAW EVAL: 2556/4823 = 0.5300 accuracy\n",
    "DEV AVG EVAL: 2989/4823 = 0.6197 accuracy\n",
    "Training iteration 1\n",
    "TR  RAW EVAL: 10643/14619 = 0.7280 accuracy\n",
    "DEV RAW EVAL: 2956/4823 = 0.6129 accuracy\n",
    "DEV AVG EVAL: 3170/4823 = 0.6573 accuracy\n",
    "Training iteration 2\n",
    "TR  RAW EVAL: 10148/14619 = 0.6942 accuracy\n",
    "DEV RAW EVAL: 2692/4823 = 0.5582 accuracy\n",
    "DEV AVG EVAL: 3272/4823 = 0.6784 accuracy\n",
    "Training iteration 3\n",
    "TR  RAW EVAL: 11681/14619 = 0.7990 accuracy\n",
    "DEV RAW EVAL: 3150/4823 = 0.6531 accuracy\n",
    "DEV AVG EVAL: 3304/4823 = 0.6851 accuracy\n",
    "Training iteration 4\n",
    "TR  RAW EVAL: 11722/14619 = 0.8018 accuracy\n",
    "DEV RAW EVAL: 3028/4823 = 0.6278 accuracy\n",
    "DEV AVG EVAL: 3309/4823 = 0.6861 accuracy\n",
    "Training iteration 5\n",
    "TR  RAW EVAL: 11799/14619 = 0.8071 accuracy\n",
    "DEV RAW EVAL: 3003/4823 = 0.6226 accuracy\n",
    "DEV AVG EVAL: 3327/4823 = 0.6898 accuracy\n",
    "Training iteration 6\n",
    "TR  RAW EVAL: 10765/14619 = 0.7364 accuracy\n",
    "DEV RAW EVAL: 2839/4823 = 0.5886 accuracy\n",
    "DEV AVG EVAL: 3333/4823 = 0.6911 accuracy\n",
    "Training iteration 7\n",
    "TR  RAW EVAL: 12355/14619 = 0.8451 accuracy\n",
    "DEV RAW EVAL: 3076/4823 = 0.6378 accuracy\n",
    "DEV AVG EVAL: 3339/4823 = 0.6923 accuracy\n",
    "Training iteration 8\n",
    "TR  RAW EVAL: 11224/14619 = 0.7678 accuracy\n",
    "DEV RAW EVAL: 2947/4823 = 0.6110 accuracy\n",
    "DEV AVG EVAL: 3334/4823 = 0.6913 accuracy\n",
    "Training iteration 9\n",
    "TR  RAW EVAL: 12581/14619 = 0.8606 accuracy\n",
    "DEV RAW EVAL: 3232/4823 = 0.6701 accuracy\n",
    "DEV AVG EVAL: 3336/4823 = 0.6917 accuracy\n",
    "\n",
    "Learned weights for 24359 features from 1000 examples"
   ]
  },
  {
   "cell_type": "markdown",
   "metadata": {},
   "source": [
    "**Question 5.8** (6 points)\n",
    "\n",
    "Print out a report of the accuracy rate for each tag in the development set. We provided a function to do this `fancy_eval`. Look at the two sentences in the dev data, and in your writeup show and compare the gold-standard tags versus your model's predictions for them.  Consult the tagset description to understand what's going on.\n",
    "What types of things does your tagger get right and wrong?\n",
    "\n",
    "To look at the examples, you may find it convenient to use `show_predictions` (or write up the equivalent manually).  For example, after 1 iteration of training, we get this output from the first sentence in the devset.\n",
    "(After investigating TV shows that were popular in 2011 when the tweet was authored, we actually think some of the gold-standard tags in this example might be wrong.)\n",
    "\n",
    "\n",
    "              word                 gold pred\n",
    "              ----                 ---- ----\n",
    "              @ciaranyree          @    @   \n",
    "              it                   O    O   \n",
    "              was                  V    V   \n",
    "              on                   P    P   \n",
    "              football             N    ^     *** Error\n",
    "              wives                N    N   \n",
    "              ,                    ,    ,   \n",
    "              one                  $    $   \n",
    "              of                   P    P   \n",
    "              the                  D    D   \n",
    "              players              N    N   \n",
    "              and                  &    &   \n",
    "              his                  D    D   \n",
    "              wife                 N    N   \n",
    "              own                  V    V   \n",
    "              smash                ^    D     *** Error\n",
    "              burger               ^    N     *** Error\n",
    "\n",
    "\n",
    "To do this part, you may find it useful to save your model's weights with pickle.dumps (or json.dumps) and have a short analysis script that loads the model and devdata to do the reports.  If you have to re-train each time you tweak your analysis code, it can be annoying."
   ]
  },
  {
   "cell_type": "code",
   "execution_count": 134,
   "metadata": {},
   "outputs": [
    {
     "name": "stdout",
     "output_type": "stream",
     "text": [
      "Accuracy rate for each tag in the development set: \n",
      "\n",
      "gold O acc 0.9489 (316/333)\n",
      "gold , acc 0.9460 (473/500)\n",
      "gold D acc 0.9263 (289/312)\n",
      "gold P acc 0.9250 (407/440)\n",
      "gold & acc 0.9231 (84/91)\n",
      "gold V acc 0.8296 (623/751)\n",
      "gold L acc 0.7538 (49/65)\n",
      "gold T acc 0.7500 (27/36)\n",
      "gold N acc 0.6970 (460/660)\n",
      "gold R acc 0.6507 (136/209)\n",
      "gold A acc 0.5941 (142/239)\n",
      "gold E acc 0.5577 (29/52)\n",
      "gold ! acc 0.5152 (51/99)\n",
      "gold @ acc 0.4280 (104/243)\n",
      "gold $ acc 0.3605 (31/86)\n",
      "gold U acc 0.2747 (25/91)\n",
      "gold ^ acc 0.2379 (74/311)\n",
      "gold G acc 0.2000 (13/65)\n",
      "gold # acc 0.0577 (3/52)\n",
      "gold S acc 0.0000 (0/5)\n",
      "gold X acc 0.0000 (0/4)\n",
      "gold Z acc 0.0000 (0/9)\n",
      "gold ~ acc 0.0000 (0/170)\n",
      "\n",
      "\n",
      "\n",
      "word                 gold pred\n",
      "----                 ---- ----\n",
      "@ciaranyree          @    @   \n",
      "it                   O    O   \n",
      "was                  V    V   \n",
      "on                   P    P   \n",
      "football             N    N   \n",
      "wives                N    V     *** Error\n",
      ",                    ,    ,   \n",
      "one                  $    $   \n",
      "of                   P    P   \n",
      "the                  D    D   \n",
      "players              N    N   \n",
      "and                  &    &   \n",
      "his                  D    D   \n",
      "wife                 N    N   \n",
      "own                  V    N     *** Error\n",
      "smash                ^    V     *** Error\n",
      "burger               ^    @     *** Error\n",
      "\n",
      "\n",
      "word                 gold pred\n",
      "----                 ---- ----\n",
      "RT                   ~    A     *** Error\n",
      "@TheRealQuailman     @    N     *** Error\n",
      ":                    ~    ,     *** Error\n",
      "Currently            R    A     *** Error\n",
      "laughing             V    N     *** Error\n",
      "at                   P    P   \n",
      "Laker                ^    ^   \n",
      "haters               N    N   \n",
      ".                    ,    ,   \n",
      "\n",
      "\n"
     ]
    }
   ],
   "source": [
    "import pickle\n",
    "\n",
    "# Analysis Report\n",
    "sentence_count = 1\n",
    "final_weights = pickle.load( open( \"final_weights.p\", \"rb\" ) )\n",
    "test_set = read_tagging_file(\"oct27.dev\")\n",
    "\n",
    "print \"Accuracy rate for each tag in the development set: \\n\"\n",
    "fancy_eval(test_set,final_weights)\n",
    "\n",
    "print(\"\\n\\n\")\n",
    "for tokens,goldlabels in test_set:\n",
    "    if sentence_count > 2:\n",
    "        break\n",
    "    predlabels = predict_seq(tokens, final_weights)\n",
    "    show_predictions(tokens, goldlabels, predlabels)\n",
    "    print(\"\\n\")\n",
    "    sentence_count = sentence_count + 1"
   ]
  },
  {
   "cell_type": "markdown",
   "metadata": {},
   "source": [
    "#### Analysis:\n",
    "\n",
    "The tagger usually does not perform as well for the tags that are less common like S, X, Z, all of which occur less than 10 times in the dataset. As mentioned earlier, some of the gold-standard tags in this example appear to be wrong. This can be one of the reasons why the tagger is not able to identify them correctly (for ex, 'burger', 'smash'). The performance is really poor for ~ (indications of continuation of a message across multiple tweets) and inspite of 170 occurances, the tagger still fails to get it right. The tagger identifies the tokens like \":\" as punctuations and not as discourse markers.\n"
   ]
  },
  {
   "cell_type": "markdown",
   "metadata": {},
   "source": [
    "**Question 5.9** (OPTIONAL: 4 Extra Credit points)\n",
    "\n",
    "Improve the features of your tagger to improve accuracy on the development set. This will only require changes to `local_emission_features`. Implement at least 4 new types of features. Report your tagger's accuracy with these improvements. Please make a table that reports accuracy from adding different features. The first row should be the basic system, and the last row should be the fanciest system. Rows in between should report different combinations of features. One simple way to do this is, if you have 4 different feature types, to run 4 experiments where in each one, you add only one feature type to the basic system. For example:\n",
    "\n",
    "<img src=\"3.png\"> \n",
    "\n",
    "Hint: if you make features about the first character of a word, that helps a lot for the # (hashtag) and @ (at-mention) tags.  The URL tag is easy to get too with a similar form of character affix analysis. Character affixes help lots of other tags too. Also, if you have a feature that looks at the word at position $t$, you can make new versions of it that look to the left or right of the $t^{th}$ position in question: for example, 'word_to_left=the'.\n"
   ]
  },
  {
   "cell_type": "code",
   "execution_count": null,
   "metadata": {
    "collapsed": true
   },
   "outputs": [],
   "source": []
  }
 ],
 "metadata": {
  "anaconda-cloud": {},
  "kernelspec": {
   "display_name": "Python 2",
   "language": "python",
   "name": "python2"
  },
  "language_info": {
   "codemirror_mode": {
    "name": "ipython",
    "version": 2
   },
   "file_extension": ".py",
   "mimetype": "text/x-python",
   "name": "python",
   "nbconvert_exporter": "python",
   "pygments_lexer": "ipython2",
   "version": "2.7.13"
  }
 },
 "nbformat": 4,
 "nbformat_minor": 1
}
